{
 "cells": [
  {
   "cell_type": "code",
   "execution_count": 12,
   "metadata": {
    "collapsed": true,
    "scrolled": true
   },
   "outputs": [],
   "source": [
    "import numpy as np"
   ]
  },
  {
   "cell_type": "code",
   "execution_count": 13,
   "metadata": {
    "collapsed": true
   },
   "outputs": [],
   "source": [
    "# get n digits of lfsr sequence for initial state register\n",
    "# with connection poly cd over a field mod z\n",
    "def get_lfsr_seq(register, cd, z, n):\n",
    "    register = list(register)\n",
    "    lfsr_out = []\n",
    "    \n",
    "    for i in range(n):\n",
    "        feedback = 0\n",
    "        for r, c, in zip(register, cd):\n",
    "            feedback += r * c\n",
    "        feedback = (z - feedback) % z\n",
    "        \n",
    "        lfsr_out.append(register.pop(0))\n",
    "        register.append(feedback)\n",
    "    \n",
    "    return lfsr_out"
   ]
  },
  {
   "cell_type": "code",
   "execution_count": 14,
   "metadata": {
    "collapsed": true
   },
   "outputs": [],
   "source": [
    "keystream = '0001100100010100011110101101111010110000110011011011110101111001010011010101010100001000010111011011101000010000100110100000110111110110001001010011001010001000011010110010100011100011010001000'\n",
    "\n",
    "# convert to a numpy array\n",
    "keystream = np.array([int(k) for k in keystream])\n",
    "n = len(keystream)"
   ]
  },
  {
   "cell_type": "code",
   "execution_count": 15,
   "metadata": {
    "collapsed": true
   },
   "outputs": [],
   "source": [
    "# connection polynomials expressed as z2 coefficients in\n",
    "# descending degree\n",
    "connection_polynomials = [\n",
    "    [1, 0, 1, 1, 0, 0, 1, 1, 0, 1, 0, 1, 1],\n",
    "    [1, 0, 1, 0, 1, 1, 0, 0, 1, 1, 0, 1, 0, 1, 0],\n",
    "    [1, 1, 0, 0, 1, 0, 0, 1, 0, 1, 0, 0, 1, 1, 0, 1, 0]]"
   ]
  },
  {
   "cell_type": "code",
   "execution_count": 16,
   "metadata": {
    "collapsed": true
   },
   "outputs": [],
   "source": [
    "# convert an int x to a binary list of length l\n",
    "def to_binary_array(x, l):\n",
    "    b = bin(x)[2:]\n",
    "    r = [int(i) for i in b]\n",
    "    while(len(r) < l):\n",
    "        r = [0] + r\n",
    "    return r"
   ]
  },
  {
   "cell_type": "code",
   "execution_count": 17,
   "metadata": {
    "collapsed": true
   },
   "outputs": [],
   "source": [
    "# measure similarity between 2 numpy arrays\n",
    "def correlation_value(a, b):\n",
    "    return np.count_nonzero(a == b) / len(a)"
   ]
  },
  {
   "cell_type": "code",
   "execution_count": 18,
   "metadata": {
    "collapsed": true
   },
   "outputs": [],
   "source": [
    "def crack_lfsr(cd):\n",
    "    correlation_values = []\n",
    "    initial_states = []\n",
    "    l = len(cd)\n",
    "    \n",
    "    for i in range(2**l):\n",
    "        # convert int i to initial state of the register\n",
    "        i = to_binary_array(i, l)\n",
    "        \n",
    "        # get the sequence for initial state i\n",
    "        seq = get_lfsr_seq(i, cd, 2, n)\n",
    "        seq = np.array(seq)\n",
    "        \n",
    "        # measure similarity between lfsr with input i and output keystream\n",
    "        c = abs(.5 - correlation_value(seq, keystream))\n",
    "        \n",
    "        correlation_values.append(c)\n",
    "        initial_states.append(i)\n",
    "        \n",
    "    return (initial_states, correlation_values)"
   ]
  },
  {
   "cell_type": "code",
   "execution_count": 26,
   "metadata": {},
   "outputs": [
    {
     "name": "stdout",
     "output_type": "stream",
     "text": [
      "0.2979274611398963 [0, 0, 0, 1, 0, 1, 0, 1, 0, 0, 1, 1, 1]\n",
      "0.2979274611398963 [1, 0, 0, 0, 1, 0, 0, 1, 0, 1, 0, 1, 0, 1, 0]\n",
      "0.22020725388601037 [0, 0, 0, 1, 1, 0, 1, 1, 1, 0, 0, 1, 0, 1, 0, 0, 0]\n",
      "CPU times: user 59.8 s, sys: 52 ms, total: 59.8 s\n",
      "Wall time: 59.8 s\n"
     ]
    }
   ],
   "source": [
    "%%time\n",
    "key = []\n",
    "for cd in connection_polynomials:\n",
    "    init, corr = crack_lfsr(cd)\n",
    "    # add initial state with max correlation value to key\n",
    "    cv = max(corr)\n",
    "    state = init[corr.index(cv)]\n",
    "    print(cv, state)\n",
    "    key.append(state)"
   ]
  },
  {
   "cell_type": "code",
   "execution_count": 23,
   "metadata": {},
   "outputs": [
    {
     "data": {
      "text/plain": [
       "[[0, 0, 0, 1, 0, 1, 0, 1, 0, 0, 1, 1, 1],\n",
       " [1, 0, 0, 0, 1, 0, 0, 1, 0, 1, 0, 1, 0, 1, 0],\n",
       " [0, 0, 0, 1, 1, 0, 1, 1, 1, 0, 0, 1, 0, 1, 0, 0, 0]]"
      ]
     },
     "execution_count": 23,
     "metadata": {},
     "output_type": "execute_result"
    }
   ],
   "source": [
    "key"
   ]
  },
  {
   "cell_type": "code",
   "execution_count": 21,
   "metadata": {
    "collapsed": true
   },
   "outputs": [],
   "source": [
    "result = np.zeros(n)\n",
    "for k, cd in zip(key, connection_polynomials):\n",
    "    # add up sequences from lfsr with its cd and corresponding cracked key\n",
    "    result = np.add(result, np.array(get_lfsr_seq(k, cd, 2, n)))\n",
    "\n",
    "# final keystream is where sum of individual lfsr's >= 2\n",
    "result = result >= 2"
   ]
  },
  {
   "cell_type": "code",
   "execution_count": 24,
   "metadata": {
    "scrolled": true
   },
   "outputs": [
    {
     "data": {
      "text/plain": [
       "True"
      ]
     },
     "execution_count": 24,
     "metadata": {},
     "output_type": "execute_result"
    }
   ],
   "source": [
    "# make sure it is the same as the given keystream\n",
    "(result == keystream).all()"
   ]
  }
 ],
 "metadata": {
  "kernelspec": {
   "display_name": "Python 3",
   "language": "python",
   "name": "python3"
  },
  "language_info": {
   "codemirror_mode": {
    "name": "ipython",
    "version": 3
   },
   "file_extension": ".py",
   "mimetype": "text/x-python",
   "name": "python",
   "nbconvert_exporter": "python",
   "pygments_lexer": "ipython3",
   "version": "3.6.1"
  }
 },
 "nbformat": 4,
 "nbformat_minor": 2
}
